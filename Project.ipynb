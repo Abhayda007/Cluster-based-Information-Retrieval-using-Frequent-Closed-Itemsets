{
  "nbformat": 4,
  "nbformat_minor": 0,
  "metadata": {
    "colab": {
      "name": "AirProject.ipynb",
      "provenance": [],
      "collapsed_sections": []
    },
    "kernelspec": {
      "name": "python3",
      "display_name": "Python 3"
    },
    "language_info": {
      "name": "python"
    }
  },
  "cells": [
    {
      "cell_type": "markdown",
      "source": [
        "# *AIR Project - Paper Implementation*\n",
        "\n",
        "***Paper Title - Fast and Effective Cluster-based Information Retrieval using\n",
        "Frequent Closed Itemsets***\n",
        "\n",
        "Team Details : \n",
        "* Abhay D A - PES1UG19CS011\n",
        "* Akash S - PES1UG19CS042"
      ],
      "metadata": {
        "id": "Y_GN_x0QR_xw"
      }
    },
    {
      "cell_type": "code",
      "execution_count": null,
      "metadata": {
        "colab": {
          "base_uri": "https://localhost:8080/"
        },
        "id": "UmQHJQsEvQiF",
        "outputId": "ba14d3b7-7649-4115-e396-406557782c99"
      },
      "outputs": [
        {
          "output_type": "stream",
          "name": "stdout",
          "text": [
            "[nltk_data] Downloading package punkt to /root/nltk_data...\n",
            "[nltk_data]   Package punkt is already up-to-date!\n",
            "[nltk_data] Downloading package stopwords to /root/nltk_data...\n",
            "[nltk_data]   Package stopwords is already up-to-date!\n",
            "[nltk_data] Downloading package wordnet to /root/nltk_data...\n",
            "[nltk_data]   Package wordnet is already up-to-date!\n"
          ]
        }
      ],
      "source": [
        "import os\n",
        "import numpy as np \n",
        "import pandas as pd \n",
        "import re\n",
        "import time\n",
        "\n",
        "import nltk\n",
        "nltk.download('punkt')\n",
        "nltk.download('stopwords')\n",
        "nltk.download('wordnet')\n",
        "from nltk.tokenize import word_tokenize\n",
        "from nltk.stem import WordNetLemmatizer\n",
        "from nltk.corpus import stopwords\n",
        "from nltk.stem import PorterStemmer\n",
        "from sklearn.feature_extraction.text import TfidfVectorizer\n",
        "from sklearn.cluster import KMeans\n",
        "import matplotlib.pyplot as plt\n",
        "\n",
        "from itertools import combinations\n",
        "from functools import reduce\n",
        "\n",
        "from mlxtend.preprocessing import TransactionEncoder\n",
        "from mlxtend.frequent_patterns import apriori"
      ]
    },
    {
      "cell_type": "code",
      "source": [
        "df = pd.read_csv(\"bbc-data.csv\")\n",
        "\n",
        "df.head()"
      ],
      "metadata": {
        "colab": {
          "base_uri": "https://localhost:8080/",
          "height": 206
        },
        "id": "2lzM2lwNvZCt",
        "outputId": "e2017afc-b40e-483c-9a1e-3eb33251468d"
      },
      "execution_count": null,
      "outputs": [
        {
          "output_type": "execute_result",
          "data": {
            "text/plain": [
              "                                                text\n",
              "0  Ad sales boost Time Warner profit  Quarterly p...\n",
              "1  Dollar gains on Greenspan speech  The dollar h...\n",
              "2  Yukos unit buyer faces loan claim  The owners ...\n",
              "3  High fuel prices hit BA's profits  British Air...\n",
              "4  Pernod takeover talk lifts Domecq  Shares in U..."
            ],
            "text/html": [
              "\n",
              "  <div id=\"df-2b9dd82d-32b8-4044-9fa4-47bd88d76ea9\">\n",
              "    <div class=\"colab-df-container\">\n",
              "      <div>\n",
              "<style scoped>\n",
              "    .dataframe tbody tr th:only-of-type {\n",
              "        vertical-align: middle;\n",
              "    }\n",
              "\n",
              "    .dataframe tbody tr th {\n",
              "        vertical-align: top;\n",
              "    }\n",
              "\n",
              "    .dataframe thead th {\n",
              "        text-align: right;\n",
              "    }\n",
              "</style>\n",
              "<table border=\"1\" class=\"dataframe\">\n",
              "  <thead>\n",
              "    <tr style=\"text-align: right;\">\n",
              "      <th></th>\n",
              "      <th>text</th>\n",
              "    </tr>\n",
              "  </thead>\n",
              "  <tbody>\n",
              "    <tr>\n",
              "      <th>0</th>\n",
              "      <td>Ad sales boost Time Warner profit  Quarterly p...</td>\n",
              "    </tr>\n",
              "    <tr>\n",
              "      <th>1</th>\n",
              "      <td>Dollar gains on Greenspan speech  The dollar h...</td>\n",
              "    </tr>\n",
              "    <tr>\n",
              "      <th>2</th>\n",
              "      <td>Yukos unit buyer faces loan claim  The owners ...</td>\n",
              "    </tr>\n",
              "    <tr>\n",
              "      <th>3</th>\n",
              "      <td>High fuel prices hit BA's profits  British Air...</td>\n",
              "    </tr>\n",
              "    <tr>\n",
              "      <th>4</th>\n",
              "      <td>Pernod takeover talk lifts Domecq  Shares in U...</td>\n",
              "    </tr>\n",
              "  </tbody>\n",
              "</table>\n",
              "</div>\n",
              "      <button class=\"colab-df-convert\" onclick=\"convertToInteractive('df-2b9dd82d-32b8-4044-9fa4-47bd88d76ea9')\"\n",
              "              title=\"Convert this dataframe to an interactive table.\"\n",
              "              style=\"display:none;\">\n",
              "        \n",
              "  <svg xmlns=\"http://www.w3.org/2000/svg\" height=\"24px\"viewBox=\"0 0 24 24\"\n",
              "       width=\"24px\">\n",
              "    <path d=\"M0 0h24v24H0V0z\" fill=\"none\"/>\n",
              "    <path d=\"M18.56 5.44l.94 2.06.94-2.06 2.06-.94-2.06-.94-.94-2.06-.94 2.06-2.06.94zm-11 1L8.5 8.5l.94-2.06 2.06-.94-2.06-.94L8.5 2.5l-.94 2.06-2.06.94zm10 10l.94 2.06.94-2.06 2.06-.94-2.06-.94-.94-2.06-.94 2.06-2.06.94z\"/><path d=\"M17.41 7.96l-1.37-1.37c-.4-.4-.92-.59-1.43-.59-.52 0-1.04.2-1.43.59L10.3 9.45l-7.72 7.72c-.78.78-.78 2.05 0 2.83L4 21.41c.39.39.9.59 1.41.59.51 0 1.02-.2 1.41-.59l7.78-7.78 2.81-2.81c.8-.78.8-2.07 0-2.86zM5.41 20L4 18.59l7.72-7.72 1.47 1.35L5.41 20z\"/>\n",
              "  </svg>\n",
              "      </button>\n",
              "      \n",
              "  <style>\n",
              "    .colab-df-container {\n",
              "      display:flex;\n",
              "      flex-wrap:wrap;\n",
              "      gap: 12px;\n",
              "    }\n",
              "\n",
              "    .colab-df-convert {\n",
              "      background-color: #E8F0FE;\n",
              "      border: none;\n",
              "      border-radius: 50%;\n",
              "      cursor: pointer;\n",
              "      display: none;\n",
              "      fill: #1967D2;\n",
              "      height: 32px;\n",
              "      padding: 0 0 0 0;\n",
              "      width: 32px;\n",
              "    }\n",
              "\n",
              "    .colab-df-convert:hover {\n",
              "      background-color: #E2EBFA;\n",
              "      box-shadow: 0px 1px 2px rgba(60, 64, 67, 0.3), 0px 1px 3px 1px rgba(60, 64, 67, 0.15);\n",
              "      fill: #174EA6;\n",
              "    }\n",
              "\n",
              "    [theme=dark] .colab-df-convert {\n",
              "      background-color: #3B4455;\n",
              "      fill: #D2E3FC;\n",
              "    }\n",
              "\n",
              "    [theme=dark] .colab-df-convert:hover {\n",
              "      background-color: #434B5C;\n",
              "      box-shadow: 0px 1px 3px 1px rgba(0, 0, 0, 0.15);\n",
              "      filter: drop-shadow(0px 1px 2px rgba(0, 0, 0, 0.3));\n",
              "      fill: #FFFFFF;\n",
              "    }\n",
              "  </style>\n",
              "\n",
              "      <script>\n",
              "        const buttonEl =\n",
              "          document.querySelector('#df-2b9dd82d-32b8-4044-9fa4-47bd88d76ea9 button.colab-df-convert');\n",
              "        buttonEl.style.display =\n",
              "          google.colab.kernel.accessAllowed ? 'block' : 'none';\n",
              "\n",
              "        async function convertToInteractive(key) {\n",
              "          const element = document.querySelector('#df-2b9dd82d-32b8-4044-9fa4-47bd88d76ea9');\n",
              "          const dataTable =\n",
              "            await google.colab.kernel.invokeFunction('convertToInteractive',\n",
              "                                                     [key], {});\n",
              "          if (!dataTable) return;\n",
              "\n",
              "          const docLinkHtml = 'Like what you see? Visit the ' +\n",
              "            '<a target=\"_blank\" href=https://colab.research.google.com/notebooks/data_table.ipynb>data table notebook</a>'\n",
              "            + ' to learn more about interactive tables.';\n",
              "          element.innerHTML = '';\n",
              "          dataTable['output_type'] = 'display_data';\n",
              "          await google.colab.output.renderOutput(dataTable, element);\n",
              "          const docLink = document.createElement('div');\n",
              "          docLink.innerHTML = docLinkHtml;\n",
              "          element.appendChild(docLink);\n",
              "        }\n",
              "      </script>\n",
              "    </div>\n",
              "  </div>\n",
              "  "
            ]
          },
          "metadata": {},
          "execution_count": 45
        }
      ]
    },
    {
      "cell_type": "code",
      "source": [
        "df.info()"
      ],
      "metadata": {
        "colab": {
          "base_uri": "https://localhost:8080/"
        },
        "id": "rO1bpxwqvZ2c",
        "outputId": "96ed99bc-9e15-45e4-d5f6-496001670791"
      },
      "execution_count": null,
      "outputs": [
        {
          "output_type": "stream",
          "name": "stdout",
          "text": [
            "<class 'pandas.core.frame.DataFrame'>\n",
            "RangeIndex: 2225 entries, 0 to 2224\n",
            "Data columns (total 1 columns):\n",
            " #   Column  Non-Null Count  Dtype \n",
            "---  ------  --------------  ----- \n",
            " 0   text    2225 non-null   object\n",
            "dtypes: object(1)\n",
            "memory usage: 17.5+ KB\n"
          ]
        }
      ]
    },
    {
      "cell_type": "markdown",
      "source": [
        "# Pre processing"
      ],
      "metadata": {
        "id": "NZYwxvVHvuY_"
      }
    },
    {
      "cell_type": "code",
      "source": [
        "def preprocess(text):\n",
        "    \n",
        "    #----------Pre-processing----------#\n",
        "    urlPattern        = r\"((http://)[^ ]*|(https://)[^ ]*|( www\\.)[^ ]*)\"\n",
        "    alphaPattern      = \"[^a-zA-Z0-9]\"\n",
        "\n",
        "    # Remove all EmailIDs\n",
        "    text = re.sub(\"^[a-zA-Z0-9+_.-]+@[a-zA-Z0-9.-]+$\", '', text)\n",
        "    # Remove all URLs\n",
        "    text = re.sub(urlPattern,'',text)\n",
        "    # Replace all non alphabets.\n",
        "    text = re.sub(alphaPattern, \" \", text)\n",
        "    # Remove extra spaces\n",
        "    text = re.sub(r\"[ \\t\\n]+\",\" \" , text)\n",
        "    # Remove Numbers\n",
        "    text = re.sub(r\"\\d+\",\" \" , text)\n",
        "    # Remove single characters\n",
        "    text = re.sub(r'\\b[.]{1}\\b', '', text)\n",
        "    # Remove consecutive characters\n",
        "    text = re.sub(r'/(.)\\1+/', '', text)\n",
        "    \n",
        "    #----------Case folding---------------#\n",
        "    \n",
        "    text = text.strip().lower()\n",
        "    \n",
        "    #---------Tokenization----------------#\n",
        "   \n",
        "    text = word_tokenize(text)\n",
        "    \n",
        "    #-----Stop word removal---------#\n",
        "    temp = []\n",
        "    stop_words = set(stopwords.words('english'))\n",
        "    for word in text:\n",
        "        if word not in stop_words:\n",
        "            temp.append(word)\n",
        "    \n",
        "    text = temp\n",
        "    \n",
        "    #--------Lemmatization--------#\n",
        "    \n",
        "    lemmatizer = WordNetLemmatizer()\n",
        "    \n",
        "    text = [lemmatizer.lemmatize(word) for word in text]\n",
        "    \n",
        "    return set(text)\n",
        "\n",
        "\n",
        "df['processed'] = df['text'].apply(lambda x : preprocess(x))\n",
        "\n",
        "print(\"Preprocessing Complete.\")"
      ],
      "metadata": {
        "colab": {
          "base_uri": "https://localhost:8080/"
        },
        "id": "HtPrmsJKvZ5T",
        "outputId": "035d713d-8227-46eb-8cf1-749426062f9e"
      },
      "execution_count": null,
      "outputs": [
        {
          "output_type": "stream",
          "name": "stdout",
          "text": [
            "Preprocessing Complete.\n"
          ]
        }
      ]
    },
    {
      "cell_type": "code",
      "source": [
        "df['clean_text'] = df['processed'].apply(lambda x : ' '.join(x).strip())\n",
        "df.head()"
      ],
      "metadata": {
        "colab": {
          "base_uri": "https://localhost:8080/",
          "height": 206
        },
        "id": "SsNQEIwsvZ8K",
        "outputId": "9aad8f44-3944-4d83-c112-57232130586a"
      },
      "execution_count": null,
      "outputs": [
        {
          "output_type": "execute_result",
          "data": {
            "text/plain": [
              "                                                text  \\\n",
              "0  Ad sales boost Time Warner profit  Quarterly p...   \n",
              "1  Dollar gains on Greenspan speech  The dollar h...   \n",
              "2  Yukos unit buyer faces loan claim  The owners ...   \n",
              "3  High fuel prices hit BA's profits  British Air...   \n",
              "4  Pernod takeover talk lifts Domecq  Shares in U...   \n",
              "\n",
              "                                           processed  \\\n",
              "0  {connection, google, month, service, analyst, ...   \n",
              "1  {view, call, month, february, yawning, dollar,...   \n",
              "2  {clause, filed, arbitration, shell, mikhail, r...   \n",
              "3  {extra, month, analyst, full, continues, expec...   \n",
              "4  {cream, seagram, wsj, wine, comment, chain, in...   \n",
              "\n",
              "                                          clean_text  \n",
              "0  connection google month service analyst offeri...  \n",
              "1  view call month february yawning dollar buying...  \n",
              "2  clause filed arbitration shell mikhail russian...  \n",
              "3  extra month analyst full continues expects exa...  \n",
              "4  cream seagram wsj wine comment chain including...  "
            ],
            "text/html": [
              "\n",
              "  <div id=\"df-9f3b6d6e-5cf6-4b4e-b68d-996f9d9a0de9\">\n",
              "    <div class=\"colab-df-container\">\n",
              "      <div>\n",
              "<style scoped>\n",
              "    .dataframe tbody tr th:only-of-type {\n",
              "        vertical-align: middle;\n",
              "    }\n",
              "\n",
              "    .dataframe tbody tr th {\n",
              "        vertical-align: top;\n",
              "    }\n",
              "\n",
              "    .dataframe thead th {\n",
              "        text-align: right;\n",
              "    }\n",
              "</style>\n",
              "<table border=\"1\" class=\"dataframe\">\n",
              "  <thead>\n",
              "    <tr style=\"text-align: right;\">\n",
              "      <th></th>\n",
              "      <th>text</th>\n",
              "      <th>processed</th>\n",
              "      <th>clean_text</th>\n",
              "    </tr>\n",
              "  </thead>\n",
              "  <tbody>\n",
              "    <tr>\n",
              "      <th>0</th>\n",
              "      <td>Ad sales boost Time Warner profit  Quarterly p...</td>\n",
              "      <td>{connection, google, month, service, analyst, ...</td>\n",
              "      <td>connection google month service analyst offeri...</td>\n",
              "    </tr>\n",
              "    <tr>\n",
              "      <th>1</th>\n",
              "      <td>Dollar gains on Greenspan speech  The dollar h...</td>\n",
              "      <td>{view, call, month, february, yawning, dollar,...</td>\n",
              "      <td>view call month february yawning dollar buying...</td>\n",
              "    </tr>\n",
              "    <tr>\n",
              "      <th>2</th>\n",
              "      <td>Yukos unit buyer faces loan claim  The owners ...</td>\n",
              "      <td>{clause, filed, arbitration, shell, mikhail, r...</td>\n",
              "      <td>clause filed arbitration shell mikhail russian...</td>\n",
              "    </tr>\n",
              "    <tr>\n",
              "      <th>3</th>\n",
              "      <td>High fuel prices hit BA's profits  British Air...</td>\n",
              "      <td>{extra, month, analyst, full, continues, expec...</td>\n",
              "      <td>extra month analyst full continues expects exa...</td>\n",
              "    </tr>\n",
              "    <tr>\n",
              "      <th>4</th>\n",
              "      <td>Pernod takeover talk lifts Domecq  Shares in U...</td>\n",
              "      <td>{cream, seagram, wsj, wine, comment, chain, in...</td>\n",
              "      <td>cream seagram wsj wine comment chain including...</td>\n",
              "    </tr>\n",
              "  </tbody>\n",
              "</table>\n",
              "</div>\n",
              "      <button class=\"colab-df-convert\" onclick=\"convertToInteractive('df-9f3b6d6e-5cf6-4b4e-b68d-996f9d9a0de9')\"\n",
              "              title=\"Convert this dataframe to an interactive table.\"\n",
              "              style=\"display:none;\">\n",
              "        \n",
              "  <svg xmlns=\"http://www.w3.org/2000/svg\" height=\"24px\"viewBox=\"0 0 24 24\"\n",
              "       width=\"24px\">\n",
              "    <path d=\"M0 0h24v24H0V0z\" fill=\"none\"/>\n",
              "    <path d=\"M18.56 5.44l.94 2.06.94-2.06 2.06-.94-2.06-.94-.94-2.06-.94 2.06-2.06.94zm-11 1L8.5 8.5l.94-2.06 2.06-.94-2.06-.94L8.5 2.5l-.94 2.06-2.06.94zm10 10l.94 2.06.94-2.06 2.06-.94-2.06-.94-.94-2.06-.94 2.06-2.06.94z\"/><path d=\"M17.41 7.96l-1.37-1.37c-.4-.4-.92-.59-1.43-.59-.52 0-1.04.2-1.43.59L10.3 9.45l-7.72 7.72c-.78.78-.78 2.05 0 2.83L4 21.41c.39.39.9.59 1.41.59.51 0 1.02-.2 1.41-.59l7.78-7.78 2.81-2.81c.8-.78.8-2.07 0-2.86zM5.41 20L4 18.59l7.72-7.72 1.47 1.35L5.41 20z\"/>\n",
              "  </svg>\n",
              "      </button>\n",
              "      \n",
              "  <style>\n",
              "    .colab-df-container {\n",
              "      display:flex;\n",
              "      flex-wrap:wrap;\n",
              "      gap: 12px;\n",
              "    }\n",
              "\n",
              "    .colab-df-convert {\n",
              "      background-color: #E8F0FE;\n",
              "      border: none;\n",
              "      border-radius: 50%;\n",
              "      cursor: pointer;\n",
              "      display: none;\n",
              "      fill: #1967D2;\n",
              "      height: 32px;\n",
              "      padding: 0 0 0 0;\n",
              "      width: 32px;\n",
              "    }\n",
              "\n",
              "    .colab-df-convert:hover {\n",
              "      background-color: #E2EBFA;\n",
              "      box-shadow: 0px 1px 2px rgba(60, 64, 67, 0.3), 0px 1px 3px 1px rgba(60, 64, 67, 0.15);\n",
              "      fill: #174EA6;\n",
              "    }\n",
              "\n",
              "    [theme=dark] .colab-df-convert {\n",
              "      background-color: #3B4455;\n",
              "      fill: #D2E3FC;\n",
              "    }\n",
              "\n",
              "    [theme=dark] .colab-df-convert:hover {\n",
              "      background-color: #434B5C;\n",
              "      box-shadow: 0px 1px 3px 1px rgba(0, 0, 0, 0.15);\n",
              "      filter: drop-shadow(0px 1px 2px rgba(0, 0, 0, 0.3));\n",
              "      fill: #FFFFFF;\n",
              "    }\n",
              "  </style>\n",
              "\n",
              "      <script>\n",
              "        const buttonEl =\n",
              "          document.querySelector('#df-9f3b6d6e-5cf6-4b4e-b68d-996f9d9a0de9 button.colab-df-convert');\n",
              "        buttonEl.style.display =\n",
              "          google.colab.kernel.accessAllowed ? 'block' : 'none';\n",
              "\n",
              "        async function convertToInteractive(key) {\n",
              "          const element = document.querySelector('#df-9f3b6d6e-5cf6-4b4e-b68d-996f9d9a0de9');\n",
              "          const dataTable =\n",
              "            await google.colab.kernel.invokeFunction('convertToInteractive',\n",
              "                                                     [key], {});\n",
              "          if (!dataTable) return;\n",
              "\n",
              "          const docLinkHtml = 'Like what you see? Visit the ' +\n",
              "            '<a target=\"_blank\" href=https://colab.research.google.com/notebooks/data_table.ipynb>data table notebook</a>'\n",
              "            + ' to learn more about interactive tables.';\n",
              "          element.innerHTML = '';\n",
              "          dataTable['output_type'] = 'display_data';\n",
              "          await google.colab.output.renderOutput(dataTable, element);\n",
              "          const docLink = document.createElement('div');\n",
              "          docLink.innerHTML = docLinkHtml;\n",
              "          element.appendChild(docLink);\n",
              "        }\n",
              "      </script>\n",
              "    </div>\n",
              "  </div>\n",
              "  "
            ]
          },
          "metadata": {},
          "execution_count": 48
        }
      ]
    },
    {
      "cell_type": "markdown",
      "source": [
        "# K means"
      ],
      "metadata": {
        "id": "G5yjwH_ivsMj"
      }
    },
    {
      "cell_type": "code",
      "source": [
        "documents = df['clean_text'].values.astype(\"U\")\n",
        "documents[0]"
      ],
      "metadata": {
        "colab": {
          "base_uri": "https://localhost:8080/",
          "height": 140
        },
        "id": "CFdp31WGvlfv",
        "outputId": "74348cf9-9140-47b5-e868-b26a4ab546d2"
      },
      "execution_count": null,
      "outputs": [
        {
          "output_type": "execute_result",
          "data": {
            "text/plain": [
              "'connection google month service analyst offering jumped advertising full parson expects amount slump alexander around exceeding december estimate stronger fortune trilogy enhancing wider restate hope year contrast ad result better reported aol market boosted sale quarter loss offset profit value try financial executive strong final purchase firm online speed preceding pay quarterly existing sign flexibility however exceptional item time saw revenue review free probe increase concluding bertelsmann third user german security aside previously chairman biggest meeting three sharp back bn dip lower owns charge intends chief box high inquiry fourth warner offered giant slightly search regulator margin office grew lost expectation already resolve way investor division music set ring company said publisher higher mixed also settle one lord earlier legal part following greatly performance effort underlying customer account engine internet buoyed le commission close objective projecting book posted broadband flop medium film helped europe exchange timewarner business reserve gain growth operating subscriber earnings benefited u advert friday stake needed bros richard catwoman unable rose adjust boost sec deal'"
            ],
            "application/vnd.google.colaboratory.intrinsic+json": {
              "type": "string"
            }
          },
          "metadata": {},
          "execution_count": 49
        }
      ]
    },
    {
      "cell_type": "code",
      "source": [
        "vectorizer = TfidfVectorizer(stop_words='english')\n",
        "features = vectorizer.fit_transform(documents)"
      ],
      "metadata": {
        "id": "yr8ORc6qvljP"
      },
      "execution_count": null,
      "outputs": []
    },
    {
      "cell_type": "code",
      "source": [
        "k = 5\n",
        "model = KMeans(n_clusters=k, init='k-means++', max_iter=1000, n_init=1, random_state = 42)\n",
        "model.fit(features)"
      ],
      "metadata": {
        "colab": {
          "base_uri": "https://localhost:8080/"
        },
        "id": "rioVSJxBvln5",
        "outputId": "d662eb56-1237-4293-99ce-44de2555d641"
      },
      "execution_count": null,
      "outputs": [
        {
          "output_type": "execute_result",
          "data": {
            "text/plain": [
              "KMeans(max_iter=1000, n_clusters=5, n_init=1, random_state=42)"
            ]
          },
          "metadata": {},
          "execution_count": 51
        }
      ]
    },
    {
      "cell_type": "code",
      "source": [
        "df['cluster'] = model.labels_"
      ],
      "metadata": {
        "id": "jA7oORNWvZ-8"
      },
      "execution_count": null,
      "outputs": []
    },
    {
      "cell_type": "code",
      "source": [
        "df.head()"
      ],
      "metadata": {
        "colab": {
          "base_uri": "https://localhost:8080/",
          "height": 206
        },
        "id": "JVMJMsmfvaCS",
        "outputId": "a7d0cdee-96e5-45db-c1e1-a4a4d350cf8e"
      },
      "execution_count": null,
      "outputs": [
        {
          "output_type": "execute_result",
          "data": {
            "text/plain": [
              "                                                text  \\\n",
              "0  Ad sales boost Time Warner profit  Quarterly p...   \n",
              "1  Dollar gains on Greenspan speech  The dollar h...   \n",
              "2  Yukos unit buyer faces loan claim  The owners ...   \n",
              "3  High fuel prices hit BA's profits  British Air...   \n",
              "4  Pernod takeover talk lifts Domecq  Shares in U...   \n",
              "\n",
              "                                           processed  \\\n",
              "0  {connection, google, month, service, analyst, ...   \n",
              "1  {view, call, month, february, yawning, dollar,...   \n",
              "2  {clause, filed, arbitration, shell, mikhail, r...   \n",
              "3  {extra, month, analyst, full, continues, expec...   \n",
              "4  {cream, seagram, wsj, wine, comment, chain, in...   \n",
              "\n",
              "                                          clean_text  cluster  \n",
              "0  connection google month service analyst offeri...        1  \n",
              "1  view call month february yawning dollar buying...        1  \n",
              "2  clause filed arbitration shell mikhail russian...        1  \n",
              "3  extra month analyst full continues expects exa...        1  \n",
              "4  cream seagram wsj wine comment chain including...        1  "
            ],
            "text/html": [
              "\n",
              "  <div id=\"df-468ea6a2-82f9-4977-8b68-56ddbf312054\">\n",
              "    <div class=\"colab-df-container\">\n",
              "      <div>\n",
              "<style scoped>\n",
              "    .dataframe tbody tr th:only-of-type {\n",
              "        vertical-align: middle;\n",
              "    }\n",
              "\n",
              "    .dataframe tbody tr th {\n",
              "        vertical-align: top;\n",
              "    }\n",
              "\n",
              "    .dataframe thead th {\n",
              "        text-align: right;\n",
              "    }\n",
              "</style>\n",
              "<table border=\"1\" class=\"dataframe\">\n",
              "  <thead>\n",
              "    <tr style=\"text-align: right;\">\n",
              "      <th></th>\n",
              "      <th>text</th>\n",
              "      <th>processed</th>\n",
              "      <th>clean_text</th>\n",
              "      <th>cluster</th>\n",
              "    </tr>\n",
              "  </thead>\n",
              "  <tbody>\n",
              "    <tr>\n",
              "      <th>0</th>\n",
              "      <td>Ad sales boost Time Warner profit  Quarterly p...</td>\n",
              "      <td>{connection, google, month, service, analyst, ...</td>\n",
              "      <td>connection google month service analyst offeri...</td>\n",
              "      <td>1</td>\n",
              "    </tr>\n",
              "    <tr>\n",
              "      <th>1</th>\n",
              "      <td>Dollar gains on Greenspan speech  The dollar h...</td>\n",
              "      <td>{view, call, month, february, yawning, dollar,...</td>\n",
              "      <td>view call month february yawning dollar buying...</td>\n",
              "      <td>1</td>\n",
              "    </tr>\n",
              "    <tr>\n",
              "      <th>2</th>\n",
              "      <td>Yukos unit buyer faces loan claim  The owners ...</td>\n",
              "      <td>{clause, filed, arbitration, shell, mikhail, r...</td>\n",
              "      <td>clause filed arbitration shell mikhail russian...</td>\n",
              "      <td>1</td>\n",
              "    </tr>\n",
              "    <tr>\n",
              "      <th>3</th>\n",
              "      <td>High fuel prices hit BA's profits  British Air...</td>\n",
              "      <td>{extra, month, analyst, full, continues, expec...</td>\n",
              "      <td>extra month analyst full continues expects exa...</td>\n",
              "      <td>1</td>\n",
              "    </tr>\n",
              "    <tr>\n",
              "      <th>4</th>\n",
              "      <td>Pernod takeover talk lifts Domecq  Shares in U...</td>\n",
              "      <td>{cream, seagram, wsj, wine, comment, chain, in...</td>\n",
              "      <td>cream seagram wsj wine comment chain including...</td>\n",
              "      <td>1</td>\n",
              "    </tr>\n",
              "  </tbody>\n",
              "</table>\n",
              "</div>\n",
              "      <button class=\"colab-df-convert\" onclick=\"convertToInteractive('df-468ea6a2-82f9-4977-8b68-56ddbf312054')\"\n",
              "              title=\"Convert this dataframe to an interactive table.\"\n",
              "              style=\"display:none;\">\n",
              "        \n",
              "  <svg xmlns=\"http://www.w3.org/2000/svg\" height=\"24px\"viewBox=\"0 0 24 24\"\n",
              "       width=\"24px\">\n",
              "    <path d=\"M0 0h24v24H0V0z\" fill=\"none\"/>\n",
              "    <path d=\"M18.56 5.44l.94 2.06.94-2.06 2.06-.94-2.06-.94-.94-2.06-.94 2.06-2.06.94zm-11 1L8.5 8.5l.94-2.06 2.06-.94-2.06-.94L8.5 2.5l-.94 2.06-2.06.94zm10 10l.94 2.06.94-2.06 2.06-.94-2.06-.94-.94-2.06-.94 2.06-2.06.94z\"/><path d=\"M17.41 7.96l-1.37-1.37c-.4-.4-.92-.59-1.43-.59-.52 0-1.04.2-1.43.59L10.3 9.45l-7.72 7.72c-.78.78-.78 2.05 0 2.83L4 21.41c.39.39.9.59 1.41.59.51 0 1.02-.2 1.41-.59l7.78-7.78 2.81-2.81c.8-.78.8-2.07 0-2.86zM5.41 20L4 18.59l7.72-7.72 1.47 1.35L5.41 20z\"/>\n",
              "  </svg>\n",
              "      </button>\n",
              "      \n",
              "  <style>\n",
              "    .colab-df-container {\n",
              "      display:flex;\n",
              "      flex-wrap:wrap;\n",
              "      gap: 12px;\n",
              "    }\n",
              "\n",
              "    .colab-df-convert {\n",
              "      background-color: #E8F0FE;\n",
              "      border: none;\n",
              "      border-radius: 50%;\n",
              "      cursor: pointer;\n",
              "      display: none;\n",
              "      fill: #1967D2;\n",
              "      height: 32px;\n",
              "      padding: 0 0 0 0;\n",
              "      width: 32px;\n",
              "    }\n",
              "\n",
              "    .colab-df-convert:hover {\n",
              "      background-color: #E2EBFA;\n",
              "      box-shadow: 0px 1px 2px rgba(60, 64, 67, 0.3), 0px 1px 3px 1px rgba(60, 64, 67, 0.15);\n",
              "      fill: #174EA6;\n",
              "    }\n",
              "\n",
              "    [theme=dark] .colab-df-convert {\n",
              "      background-color: #3B4455;\n",
              "      fill: #D2E3FC;\n",
              "    }\n",
              "\n",
              "    [theme=dark] .colab-df-convert:hover {\n",
              "      background-color: #434B5C;\n",
              "      box-shadow: 0px 1px 3px 1px rgba(0, 0, 0, 0.15);\n",
              "      filter: drop-shadow(0px 1px 2px rgba(0, 0, 0, 0.3));\n",
              "      fill: #FFFFFF;\n",
              "    }\n",
              "  </style>\n",
              "\n",
              "      <script>\n",
              "        const buttonEl =\n",
              "          document.querySelector('#df-468ea6a2-82f9-4977-8b68-56ddbf312054 button.colab-df-convert');\n",
              "        buttonEl.style.display =\n",
              "          google.colab.kernel.accessAllowed ? 'block' : 'none';\n",
              "\n",
              "        async function convertToInteractive(key) {\n",
              "          const element = document.querySelector('#df-468ea6a2-82f9-4977-8b68-56ddbf312054');\n",
              "          const dataTable =\n",
              "            await google.colab.kernel.invokeFunction('convertToInteractive',\n",
              "                                                     [key], {});\n",
              "          if (!dataTable) return;\n",
              "\n",
              "          const docLinkHtml = 'Like what you see? Visit the ' +\n",
              "            '<a target=\"_blank\" href=https://colab.research.google.com/notebooks/data_table.ipynb>data table notebook</a>'\n",
              "            + ' to learn more about interactive tables.';\n",
              "          element.innerHTML = '';\n",
              "          dataTable['output_type'] = 'display_data';\n",
              "          await google.colab.output.renderOutput(dataTable, element);\n",
              "          const docLink = document.createElement('div');\n",
              "          docLink.innerHTML = docLinkHtml;\n",
              "          element.appendChild(docLink);\n",
              "        }\n",
              "      </script>\n",
              "    </div>\n",
              "  </div>\n",
              "  "
            ]
          },
          "metadata": {},
          "execution_count": 53
        }
      ]
    },
    {
      "cell_type": "code",
      "source": [
        "order_centroids = model.cluster_centers_.argsort()[:, ::-1]\n",
        "terms = vectorizer.get_feature_names_out()\n",
        "\n",
        "cluster_features = {}\n",
        "\n",
        "for i in range(k):\n",
        "    cluster_features[i] = []\n",
        "    for j in order_centroids[i, :]: \n",
        "        cluster_features[i].append(terms[j])\n"
      ],
      "metadata": {
        "id": "r94L8EqJwcZc"
      },
      "execution_count": null,
      "outputs": []
    },
    {
      "cell_type": "code",
      "source": [
        "for i in cluster_features:\n",
        "    print(i,':',cluster_features[i][:15])"
      ],
      "metadata": {
        "colab": {
          "base_uri": "https://localhost:8080/"
        },
        "id": "SNr0QwF3wcxM",
        "outputId": "ef91647e-9251-4472-a8d8-7b771df68cfa"
      },
      "execution_count": null,
      "outputs": [
        {
          "output_type": "stream",
          "name": "stdout",
          "text": [
            "0 : ['film', 'star', 'award', 'year', 'music', 'best', 'actor', 'including', 'movie', 'singer', 'new', 'tv', 'said', 'hit', 'oscar']\n",
            "1 : ['firm', 'company', 'market', 'said', 'year', 'bn', 'analyst', 'month', 'new', 'growth', 'share', 'business', 'mr', 'chief', 'price']\n",
            "2 : ['minister', 'government', 'labour', 'party', 'mr', 'election', 'tory', 'blair', 'leader', 'secretary', 'tony', 'conservative', 'say', 'prime', 'public']\n",
            "3 : ['player', 'game', 'match', 'club', 'cup', 'win', 'play', 'season', 'final', 'champion', 'league', 'team', 'chelsea', 'bos', 'played']\n",
            "4 : ['coach', 'nation', 'game', 'england', 'championship', 'ireland', 'win', 'rugby', 'team', 'olympic', 'france', 'injury', 'champion', 'international', 'world']\n"
          ]
        }
      ]
    },
    {
      "cell_type": "code",
      "source": [
        "df['cluster'].value_counts()"
      ],
      "metadata": {
        "colab": {
          "base_uri": "https://localhost:8080/"
        },
        "id": "G90ERQpHwc0D",
        "outputId": "8dd241b1-a696-4ba3-a50e-5b4be52f836e"
      },
      "execution_count": null,
      "outputs": [
        {
          "output_type": "execute_result",
          "data": {
            "text/plain": [
              "1    824\n",
              "0    450\n",
              "2    442\n",
              "3    277\n",
              "4    232\n",
              "Name: cluster, dtype: int64"
            ]
          },
          "metadata": {},
          "execution_count": 56
        }
      ]
    },
    {
      "cell_type": "code",
      "source": [
        "df.head()"
      ],
      "metadata": {
        "colab": {
          "base_uri": "https://localhost:8080/",
          "height": 206
        },
        "id": "DieNmyZDwc3M",
        "outputId": "67ace53c-9d78-40b8-8483-70034302f910"
      },
      "execution_count": null,
      "outputs": [
        {
          "output_type": "execute_result",
          "data": {
            "text/plain": [
              "                                                text  \\\n",
              "0  Ad sales boost Time Warner profit  Quarterly p...   \n",
              "1  Dollar gains on Greenspan speech  The dollar h...   \n",
              "2  Yukos unit buyer faces loan claim  The owners ...   \n",
              "3  High fuel prices hit BA's profits  British Air...   \n",
              "4  Pernod takeover talk lifts Domecq  Shares in U...   \n",
              "\n",
              "                                           processed  \\\n",
              "0  {connection, google, month, service, analyst, ...   \n",
              "1  {view, call, month, february, yawning, dollar,...   \n",
              "2  {clause, filed, arbitration, shell, mikhail, r...   \n",
              "3  {extra, month, analyst, full, continues, expec...   \n",
              "4  {cream, seagram, wsj, wine, comment, chain, in...   \n",
              "\n",
              "                                          clean_text  cluster  \n",
              "0  connection google month service analyst offeri...        1  \n",
              "1  view call month february yawning dollar buying...        1  \n",
              "2  clause filed arbitration shell mikhail russian...        1  \n",
              "3  extra month analyst full continues expects exa...        1  \n",
              "4  cream seagram wsj wine comment chain including...        1  "
            ],
            "text/html": [
              "\n",
              "  <div id=\"df-b243d387-8ddc-429b-aee1-bf6b1a202a55\">\n",
              "    <div class=\"colab-df-container\">\n",
              "      <div>\n",
              "<style scoped>\n",
              "    .dataframe tbody tr th:only-of-type {\n",
              "        vertical-align: middle;\n",
              "    }\n",
              "\n",
              "    .dataframe tbody tr th {\n",
              "        vertical-align: top;\n",
              "    }\n",
              "\n",
              "    .dataframe thead th {\n",
              "        text-align: right;\n",
              "    }\n",
              "</style>\n",
              "<table border=\"1\" class=\"dataframe\">\n",
              "  <thead>\n",
              "    <tr style=\"text-align: right;\">\n",
              "      <th></th>\n",
              "      <th>text</th>\n",
              "      <th>processed</th>\n",
              "      <th>clean_text</th>\n",
              "      <th>cluster</th>\n",
              "    </tr>\n",
              "  </thead>\n",
              "  <tbody>\n",
              "    <tr>\n",
              "      <th>0</th>\n",
              "      <td>Ad sales boost Time Warner profit  Quarterly p...</td>\n",
              "      <td>{connection, google, month, service, analyst, ...</td>\n",
              "      <td>connection google month service analyst offeri...</td>\n",
              "      <td>1</td>\n",
              "    </tr>\n",
              "    <tr>\n",
              "      <th>1</th>\n",
              "      <td>Dollar gains on Greenspan speech  The dollar h...</td>\n",
              "      <td>{view, call, month, february, yawning, dollar,...</td>\n",
              "      <td>view call month february yawning dollar buying...</td>\n",
              "      <td>1</td>\n",
              "    </tr>\n",
              "    <tr>\n",
              "      <th>2</th>\n",
              "      <td>Yukos unit buyer faces loan claim  The owners ...</td>\n",
              "      <td>{clause, filed, arbitration, shell, mikhail, r...</td>\n",
              "      <td>clause filed arbitration shell mikhail russian...</td>\n",
              "      <td>1</td>\n",
              "    </tr>\n",
              "    <tr>\n",
              "      <th>3</th>\n",
              "      <td>High fuel prices hit BA's profits  British Air...</td>\n",
              "      <td>{extra, month, analyst, full, continues, expec...</td>\n",
              "      <td>extra month analyst full continues expects exa...</td>\n",
              "      <td>1</td>\n",
              "    </tr>\n",
              "    <tr>\n",
              "      <th>4</th>\n",
              "      <td>Pernod takeover talk lifts Domecq  Shares in U...</td>\n",
              "      <td>{cream, seagram, wsj, wine, comment, chain, in...</td>\n",
              "      <td>cream seagram wsj wine comment chain including...</td>\n",
              "      <td>1</td>\n",
              "    </tr>\n",
              "  </tbody>\n",
              "</table>\n",
              "</div>\n",
              "      <button class=\"colab-df-convert\" onclick=\"convertToInteractive('df-b243d387-8ddc-429b-aee1-bf6b1a202a55')\"\n",
              "              title=\"Convert this dataframe to an interactive table.\"\n",
              "              style=\"display:none;\">\n",
              "        \n",
              "  <svg xmlns=\"http://www.w3.org/2000/svg\" height=\"24px\"viewBox=\"0 0 24 24\"\n",
              "       width=\"24px\">\n",
              "    <path d=\"M0 0h24v24H0V0z\" fill=\"none\"/>\n",
              "    <path d=\"M18.56 5.44l.94 2.06.94-2.06 2.06-.94-2.06-.94-.94-2.06-.94 2.06-2.06.94zm-11 1L8.5 8.5l.94-2.06 2.06-.94-2.06-.94L8.5 2.5l-.94 2.06-2.06.94zm10 10l.94 2.06.94-2.06 2.06-.94-2.06-.94-.94-2.06-.94 2.06-2.06.94z\"/><path d=\"M17.41 7.96l-1.37-1.37c-.4-.4-.92-.59-1.43-.59-.52 0-1.04.2-1.43.59L10.3 9.45l-7.72 7.72c-.78.78-.78 2.05 0 2.83L4 21.41c.39.39.9.59 1.41.59.51 0 1.02-.2 1.41-.59l7.78-7.78 2.81-2.81c.8-.78.8-2.07 0-2.86zM5.41 20L4 18.59l7.72-7.72 1.47 1.35L5.41 20z\"/>\n",
              "  </svg>\n",
              "      </button>\n",
              "      \n",
              "  <style>\n",
              "    .colab-df-container {\n",
              "      display:flex;\n",
              "      flex-wrap:wrap;\n",
              "      gap: 12px;\n",
              "    }\n",
              "\n",
              "    .colab-df-convert {\n",
              "      background-color: #E8F0FE;\n",
              "      border: none;\n",
              "      border-radius: 50%;\n",
              "      cursor: pointer;\n",
              "      display: none;\n",
              "      fill: #1967D2;\n",
              "      height: 32px;\n",
              "      padding: 0 0 0 0;\n",
              "      width: 32px;\n",
              "    }\n",
              "\n",
              "    .colab-df-convert:hover {\n",
              "      background-color: #E2EBFA;\n",
              "      box-shadow: 0px 1px 2px rgba(60, 64, 67, 0.3), 0px 1px 3px 1px rgba(60, 64, 67, 0.15);\n",
              "      fill: #174EA6;\n",
              "    }\n",
              "\n",
              "    [theme=dark] .colab-df-convert {\n",
              "      background-color: #3B4455;\n",
              "      fill: #D2E3FC;\n",
              "    }\n",
              "\n",
              "    [theme=dark] .colab-df-convert:hover {\n",
              "      background-color: #434B5C;\n",
              "      box-shadow: 0px 1px 3px 1px rgba(0, 0, 0, 0.15);\n",
              "      filter: drop-shadow(0px 1px 2px rgba(0, 0, 0, 0.3));\n",
              "      fill: #FFFFFF;\n",
              "    }\n",
              "  </style>\n",
              "\n",
              "      <script>\n",
              "        const buttonEl =\n",
              "          document.querySelector('#df-b243d387-8ddc-429b-aee1-bf6b1a202a55 button.colab-df-convert');\n",
              "        buttonEl.style.display =\n",
              "          google.colab.kernel.accessAllowed ? 'block' : 'none';\n",
              "\n",
              "        async function convertToInteractive(key) {\n",
              "          const element = document.querySelector('#df-b243d387-8ddc-429b-aee1-bf6b1a202a55');\n",
              "          const dataTable =\n",
              "            await google.colab.kernel.invokeFunction('convertToInteractive',\n",
              "                                                     [key], {});\n",
              "          if (!dataTable) return;\n",
              "\n",
              "          const docLinkHtml = 'Like what you see? Visit the ' +\n",
              "            '<a target=\"_blank\" href=https://colab.research.google.com/notebooks/data_table.ipynb>data table notebook</a>'\n",
              "            + ' to learn more about interactive tables.';\n",
              "          element.innerHTML = '';\n",
              "          dataTable['output_type'] = 'display_data';\n",
              "          await google.colab.output.renderOutput(dataTable, element);\n",
              "          const docLink = document.createElement('div');\n",
              "          docLink.innerHTML = docLinkHtml;\n",
              "          element.appendChild(docLink);\n",
              "        }\n",
              "      </script>\n",
              "    </div>\n",
              "  </div>\n",
              "  "
            ]
          },
          "metadata": {},
          "execution_count": 57
        }
      ]
    },
    {
      "cell_type": "markdown",
      "source": [
        "# Finding frequent itemsets"
      ],
      "metadata": {
        "id": "F5VCRXABwiHn"
      }
    },
    {
      "cell_type": "code",
      "source": [
        "\n",
        "def generate_itemsets(features, df):\n",
        "\n",
        "    frequent_itemsets = {}\n",
        "    te = TransactionEncoder()\n",
        "    for cluster in features:\n",
        "\n",
        "        te_ary = te.fit(df.loc[df['cluster'] == cluster, 'processed']).transform(df.loc[df['cluster'] == cluster, 'processed'])\n",
        "\n",
        "        temp_df = pd.DataFrame(te_ary, columns=te.columns_)\n",
        "        result = apriori(temp_df, min_support=0.15, use_colnames=True)\n",
        "\n",
        "        frequent_itemsets[cluster] = result['itemsets']\n",
        "        \n",
        "        frequent_itemsets[cluster] = [list(i) for i in frequent_itemsets[cluster]]\n",
        "\n",
        "        temp_df = pd.DataFrame(None)\n",
        "\n",
        "    return frequent_itemsets\n",
        "\n",
        "frequent_itemsets = generate_itemsets(cluster_features, df)\n",
        "\n",
        "print(frequent_itemsets[0][-15:])\n",
        "print(frequent_itemsets[1][-15:])\n",
        "print(frequent_itemsets[2][-15:])\n",
        "print(frequent_itemsets[3][-15:])\n",
        "print(frequent_itemsets[4][-15:])\n"
      ],
      "metadata": {
        "colab": {
          "base_uri": "https://localhost:8080/"
        },
        "id": "dnRSda-uwc7c",
        "outputId": "692d9477-7809-4e89-f5da-7da48e58f891"
      },
      "execution_count": null,
      "outputs": [
        {
          "output_type": "stream",
          "name": "stdout",
          "text": [
            "[['year', 'said', 'u'], ['year', 'uk', 'said'], ['year', 'well', 'said'], ['year', 'said', 'would'], ['year', 'star', 'u'], ['said', 'award', 'year', 'also'], ['said', 'year', 'also', 'film'], ['year', 'first', 'also', 'said'], ['year', 'also', 'one', 'new'], ['year', 'also', 'said', 'new'], ['year', 'also', 'said', 'one'], ['said', 'star', 'year', 'also'], ['year', 'also', 'said', 'time'], ['year', 'also', 'said', 'u'], ['year', 'said', 'one', 'new']]\n",
            "[['said', 'year', 'u', 'market'], ['year', 'said', 'would', 'market'], ['said', 'year', 'u', 'month'], ['year', 'said', 'would', 'month'], ['mr', 'year', 'said', 'new'], ['mr', 'said', 'one', 'would'], ['year', 'said', 'mr', 'would'], ['said', 'one', 'would', 'new'], ['said', 'year', 'one', 'new'], ['said', 'year', 'u', 'new'], ['year', 'said', 'would', 'new'], ['said', 'year', 'one', 'people'], ['said', 'year', 'one', 'u'], ['year', 'said', 'one', 'would'], ['year', 'said', 'u', 'would']]\n",
            "[['said', 'would', 'prime', 'labour', 'blair', 'minister', 'tony'], ['mr', 'said', 'prime', 'leader', 'blair', 'minister', 'tony'], ['mr', 'said', 'would', 'prime', 'blair', 'minister', 'tony'], ['mr', 'said', 'would', 'labour', 'election', 'government', 'minister'], ['mr', 'said', 'would', 'labour', 'election', 'government', 'party'], ['mr', 'said', 'would', 'labour', 'election', 'party', 'minister'], ['mr', 'said', 'would', 'people', 'labour', 'election', 'party'], ['mr', 'said', 'would', 'tory', 'labour', 'election', 'party'], ['mr', 'said', 'would', 'labour', 'government', 'party', 'minister'], ['mr', 'said', 'would', 'prime', 'labour', 'government', 'minister'], ['mr', 'said', 'would', 'labour', 'government', 'party', 'say'], ['mr', 'said', 'would', 'tory', 'labour', 'government', 'party'], ['mr', 'said', 'would', 'prime', 'government', 'minister', 'tony'], ['mr', 'said', 'would', 'told', 'government', 'minister', 'say'], ['mr', 'said', 'would', 'prime', 'government', 'blair', 'minister', 'tony']]\n",
            "[['year', 'said', 'player', 'old'], ['year', 'said', 'win', 'old'], ['year', 'said', 'one', 'player'], ['year', 'said', 'one', 'time'], ['said', 'two', 'win', 'one'], ['year', 'win', 'one', 'said'], ['said', 'play', 'win', 'player'], ['year', 'play', 'said', 'player'], ['year', 'win', 'play', 'said'], ['said', 'win', 'player', 'time'], ['year', 'said', 'player', 'time'], ['year', 'win', 'player', 'said'], ['year', 'two', 'said', 'time'], ['year', 'time', 'win', 'said'], ['year', 'two', 'win', 'said']]\n",
            "[['six', 'england', 'coach', 'wale', 'nation'], ['six', 'game', 'france', 'coach', 'nation'], ['six', 'game', 'ireland', 'coach', 'nation'], ['six', 'game', 'player', 'coach', 'nation'], ['said', 'six', 'game', 'coach', 'nation'], ['six', 'game', 'side', 'coach', 'nation'], ['six', 'ireland', 'side', 'coach', 'nation'], ['six', 'game', 'england', 'ireland', 'nation'], ['six', 'game', 'england', 'one', 'nation'], ['six', 'game', 'england', 'player', 'nation'], ['said', 'six', 'game', 'england', 'nation'], ['six', 'game', 'england', 'year', 'nation'], ['said', 'six', 'england', 'year', 'nation'], ['six', 'game', 'ireland', 'side', 'nation'], ['said', 'six', 'game', 'year', 'nation']]\n"
          ]
        }
      ]
    },
    {
      "cell_type": "code",
      "source": [
        ""
      ],
      "metadata": {
        "id": "P8KWLsDKwc_R"
      },
      "execution_count": null,
      "outputs": []
    },
    {
      "cell_type": "markdown",
      "source": [
        "# Querying"
      ],
      "metadata": {
        "id": "SqO5Z71XTCPP"
      }
    },
    {
      "cell_type": "code",
      "source": [
        "\n",
        "query = 'sports game'\n",
        "q1 = query.split()\n",
        "\n",
        "score = {}\n",
        "\n",
        "def intersection(list1, list2):\n",
        "    return list(set(list1) & set(list2))\n",
        "\n",
        "for key in frequent_itemsets:\n",
        "    \n",
        "    for item in frequent_itemsets[key]:\n",
        "        if(len(intersection(item, q1)) != 0):\n",
        "            try:\n",
        "                score[key] += 1\n",
        "            except KeyError:\n",
        "                score[key] = 1\n",
        "\n",
        "score\n"
      ],
      "metadata": {
        "colab": {
          "base_uri": "https://localhost:8080/"
        },
        "id": "hBmniEp27s7o",
        "outputId": "4cfa74dd-3ce5-4c3e-e70a-8bfdd59bb3cb"
      },
      "execution_count": null,
      "outputs": [
        {
          "output_type": "execute_result",
          "data": {
            "text/plain": [
              "{0: 1, 3: 201, 4: 380}"
            ]
          },
          "metadata": {},
          "execution_count": 73
        }
      ]
    },
    {
      "cell_type": "code",
      "source": [
        "max_cluster = max(score, key= lambda x: score[x])\n",
        "print(max_cluster)"
      ],
      "metadata": {
        "colab": {
          "base_uri": "https://localhost:8080/"
        },
        "id": "WBI6SayP71K9",
        "outputId": "3685c556-8589-4213-81c4-ddf78f2e32c1"
      },
      "execution_count": null,
      "outputs": [
        {
          "output_type": "stream",
          "name": "stdout",
          "text": [
            "4\n"
          ]
        }
      ]
    },
    {
      "cell_type": "code",
      "source": [
        "chosen_df = df.loc[df['cluster'] == max_cluster, 'clean_text']"
      ],
      "metadata": {
        "id": "E7uPqHtUM52y"
      },
      "execution_count": null,
      "outputs": []
    },
    {
      "cell_type": "code",
      "source": [
        "chosen_indices = chosen_df.index"
      ],
      "metadata": {
        "id": "ovwA2QYCN8Yd"
      },
      "execution_count": null,
      "outputs": []
    },
    {
      "cell_type": "code",
      "source": [
        "chosen_df = chosen_df.reset_index()"
      ],
      "metadata": {
        "id": "Uw1jYA9MO-pX"
      },
      "execution_count": null,
      "outputs": []
    },
    {
      "cell_type": "code",
      "source": [
        "chosen_df['clean_text']"
      ],
      "metadata": {
        "colab": {
          "base_uri": "https://localhost:8080/"
        },
        "id": "HWXsUwoFPoJz",
        "outputId": "60c37d96-c50b-4421-8a9d-db0b0818e6d9"
      },
      "execution_count": null,
      "outputs": [
        {
          "output_type": "execute_result",
          "data": {
            "text/plain": [
              "0      chance month russian leap world year domestic ...\n",
              "1      runner participation run australia dublin mont...\n",
              "2      justin know another catch say currently world ...\n",
              "3      heptathlon champion back woman record miscount...\n",
              "4      champion failed claim record union know broke ...\n",
              "                             ...                        \n",
              "227    australia month circuit problem know lot achie...\n",
              "228    absent runner withdraw champion woman injury j...\n",
              "229    absent runner withdraw champion woman injury j...\n",
              "230    september failed belief injury rusedski month ...\n",
              "231    bad month problem russian upset say scandal ev...\n",
              "Name: clean_text, Length: 232, dtype: object"
            ]
          },
          "metadata": {},
          "execution_count": 78
        }
      ]
    },
    {
      "cell_type": "code",
      "source": [
        "chosen_cluster_vectorizer = TfidfVectorizer()\n",
        "chosen_cluster_features = chosen_cluster_vectorizer.fit_transform(chosen_df['clean_text'].to_list())"
      ],
      "metadata": {
        "id": "VITdR4f08la2"
      },
      "execution_count": null,
      "outputs": []
    },
    {
      "cell_type": "code",
      "source": [
        "chosen_cluster_vectorizer.get_feature_names_out()"
      ],
      "metadata": {
        "colab": {
          "base_uri": "https://localhost:8080/"
        },
        "id": "9i-ZVXtaF-M5",
        "outputId": "715f6e97-874d-4377-cbf1-07eb190ed94f"
      },
      "execution_count": null,
      "outputs": [
        {
          "output_type": "execute_result",
          "data": {
            "text/plain": [
              "array(['aaa', 'aac', 'aaron', ..., 'zoe', 'zornotza', 'zurich'],\n",
              "      dtype=object)"
            ]
          },
          "metadata": {},
          "execution_count": 80
        }
      ]
    },
    {
      "cell_type": "code",
      "source": [
        "from sklearn.metrics.pairwise import cosine_similarity"
      ],
      "metadata": {
        "id": "tOy8e7WdGGrc"
      },
      "execution_count": null,
      "outputs": []
    },
    {
      "cell_type": "code",
      "source": [
        "cosine_sim = cosine_similarity(chosen_cluster_features, chosen_cluster_features)\n",
        "print(cosine_sim)"
      ],
      "metadata": {
        "colab": {
          "base_uri": "https://localhost:8080/"
        },
        "id": "XKragE8TJeDm",
        "outputId": "2ebec149-191d-4961-9d35-306b857be25c"
      },
      "execution_count": null,
      "outputs": [
        {
          "output_type": "stream",
          "name": "stdout",
          "text": [
            "[[1.         0.10280124 0.09126118 ... 0.03765559 0.02955946 0.04943838]\n",
            " [0.10280124 1.         0.03902822 ... 0.05920766 0.03422419 0.03576942]\n",
            " [0.09126118 0.03902822 1.         ... 0.04775845 0.03415096 0.05438196]\n",
            " ...\n",
            " [0.03765559 0.05920766 0.04775845 ... 1.         0.04568597 0.09740029]\n",
            " [0.02955946 0.03422419 0.03415096 ... 0.04568597 1.         0.07500846]\n",
            " [0.04943838 0.03576942 0.05438196 ... 0.09740029 0.07500846 1.        ]]\n"
          ]
        }
      ]
    },
    {
      "cell_type": "code",
      "source": [
        "chosen_cluster_features = chosen_cluster_features.T.toarray()"
      ],
      "metadata": {
        "id": "QdrUij1OJsGz"
      },
      "execution_count": null,
      "outputs": []
    },
    {
      "cell_type": "code",
      "source": [
        "sim_df = pd.DataFrame(chosen_cluster_features , index=chosen_cluster_vectorizer.get_feature_names_out())"
      ],
      "metadata": {
        "id": "S3oDTN1bKPpB"
      },
      "execution_count": null,
      "outputs": []
    },
    {
      "cell_type": "code",
      "source": [
        "sim_df.head()"
      ],
      "metadata": {
        "colab": {
          "base_uri": "https://localhost:8080/",
          "height": 235
        },
        "id": "Q104z1B3KfcI",
        "outputId": "d94e4eb0-df9f-4902-e494-575ab6ed3529"
      },
      "execution_count": null,
      "outputs": [
        {
          "output_type": "execute_result",
          "data": {
            "text/plain": [
              "             0    1    2    3    4    5    6         7    8    9    ...  222  \\\n",
              "aaa     0.109907  0.0  0.0  0.0  0.0  0.0  0.0  0.077092  0.0  0.0  ...  0.0   \n",
              "aac     0.000000  0.0  0.0  0.0  0.0  0.0  0.0  0.000000  0.0  0.0  ...  0.0   \n",
              "aaron   0.000000  0.0  0.0  0.0  0.0  0.0  0.0  0.000000  0.0  0.0  ...  0.0   \n",
              "abate   0.000000  0.0  0.0  0.0  0.0  0.0  0.0  0.000000  0.0  0.0  ...  0.0   \n",
              "abbott  0.000000  0.0  0.0  0.0  0.0  0.0  0.0  0.000000  0.0  0.0  ...  0.0   \n",
              "\n",
              "        223  224  225  226  227  228  229  230  231  \n",
              "aaa     0.0  0.0  0.0  0.0  0.0  0.0  0.0  0.0  0.0  \n",
              "aac     0.0  0.0  0.0  0.0  0.0  0.0  0.0  0.0  0.0  \n",
              "aaron   0.0  0.0  0.0  0.0  0.0  0.0  0.0  0.0  0.0  \n",
              "abate   0.0  0.0  0.0  0.0  0.0  0.0  0.0  0.0  0.0  \n",
              "abbott  0.0  0.0  0.0  0.0  0.0  0.0  0.0  0.0  0.0  \n",
              "\n",
              "[5 rows x 232 columns]"
            ],
            "text/html": [
              "\n",
              "  <div id=\"df-f4a30c3b-5d63-4950-8bde-870a74df5479\">\n",
              "    <div class=\"colab-df-container\">\n",
              "      <div>\n",
              "<style scoped>\n",
              "    .dataframe tbody tr th:only-of-type {\n",
              "        vertical-align: middle;\n",
              "    }\n",
              "\n",
              "    .dataframe tbody tr th {\n",
              "        vertical-align: top;\n",
              "    }\n",
              "\n",
              "    .dataframe thead th {\n",
              "        text-align: right;\n",
              "    }\n",
              "</style>\n",
              "<table border=\"1\" class=\"dataframe\">\n",
              "  <thead>\n",
              "    <tr style=\"text-align: right;\">\n",
              "      <th></th>\n",
              "      <th>0</th>\n",
              "      <th>1</th>\n",
              "      <th>2</th>\n",
              "      <th>3</th>\n",
              "      <th>4</th>\n",
              "      <th>5</th>\n",
              "      <th>6</th>\n",
              "      <th>7</th>\n",
              "      <th>8</th>\n",
              "      <th>9</th>\n",
              "      <th>...</th>\n",
              "      <th>222</th>\n",
              "      <th>223</th>\n",
              "      <th>224</th>\n",
              "      <th>225</th>\n",
              "      <th>226</th>\n",
              "      <th>227</th>\n",
              "      <th>228</th>\n",
              "      <th>229</th>\n",
              "      <th>230</th>\n",
              "      <th>231</th>\n",
              "    </tr>\n",
              "  </thead>\n",
              "  <tbody>\n",
              "    <tr>\n",
              "      <th>aaa</th>\n",
              "      <td>0.109907</td>\n",
              "      <td>0.0</td>\n",
              "      <td>0.0</td>\n",
              "      <td>0.0</td>\n",
              "      <td>0.0</td>\n",
              "      <td>0.0</td>\n",
              "      <td>0.0</td>\n",
              "      <td>0.077092</td>\n",
              "      <td>0.0</td>\n",
              "      <td>0.0</td>\n",
              "      <td>...</td>\n",
              "      <td>0.0</td>\n",
              "      <td>0.0</td>\n",
              "      <td>0.0</td>\n",
              "      <td>0.0</td>\n",
              "      <td>0.0</td>\n",
              "      <td>0.0</td>\n",
              "      <td>0.0</td>\n",
              "      <td>0.0</td>\n",
              "      <td>0.0</td>\n",
              "      <td>0.0</td>\n",
              "    </tr>\n",
              "    <tr>\n",
              "      <th>aac</th>\n",
              "      <td>0.000000</td>\n",
              "      <td>0.0</td>\n",
              "      <td>0.0</td>\n",
              "      <td>0.0</td>\n",
              "      <td>0.0</td>\n",
              "      <td>0.0</td>\n",
              "      <td>0.0</td>\n",
              "      <td>0.000000</td>\n",
              "      <td>0.0</td>\n",
              "      <td>0.0</td>\n",
              "      <td>...</td>\n",
              "      <td>0.0</td>\n",
              "      <td>0.0</td>\n",
              "      <td>0.0</td>\n",
              "      <td>0.0</td>\n",
              "      <td>0.0</td>\n",
              "      <td>0.0</td>\n",
              "      <td>0.0</td>\n",
              "      <td>0.0</td>\n",
              "      <td>0.0</td>\n",
              "      <td>0.0</td>\n",
              "    </tr>\n",
              "    <tr>\n",
              "      <th>aaron</th>\n",
              "      <td>0.000000</td>\n",
              "      <td>0.0</td>\n",
              "      <td>0.0</td>\n",
              "      <td>0.0</td>\n",
              "      <td>0.0</td>\n",
              "      <td>0.0</td>\n",
              "      <td>0.0</td>\n",
              "      <td>0.000000</td>\n",
              "      <td>0.0</td>\n",
              "      <td>0.0</td>\n",
              "      <td>...</td>\n",
              "      <td>0.0</td>\n",
              "      <td>0.0</td>\n",
              "      <td>0.0</td>\n",
              "      <td>0.0</td>\n",
              "      <td>0.0</td>\n",
              "      <td>0.0</td>\n",
              "      <td>0.0</td>\n",
              "      <td>0.0</td>\n",
              "      <td>0.0</td>\n",
              "      <td>0.0</td>\n",
              "    </tr>\n",
              "    <tr>\n",
              "      <th>abate</th>\n",
              "      <td>0.000000</td>\n",
              "      <td>0.0</td>\n",
              "      <td>0.0</td>\n",
              "      <td>0.0</td>\n",
              "      <td>0.0</td>\n",
              "      <td>0.0</td>\n",
              "      <td>0.0</td>\n",
              "      <td>0.000000</td>\n",
              "      <td>0.0</td>\n",
              "      <td>0.0</td>\n",
              "      <td>...</td>\n",
              "      <td>0.0</td>\n",
              "      <td>0.0</td>\n",
              "      <td>0.0</td>\n",
              "      <td>0.0</td>\n",
              "      <td>0.0</td>\n",
              "      <td>0.0</td>\n",
              "      <td>0.0</td>\n",
              "      <td>0.0</td>\n",
              "      <td>0.0</td>\n",
              "      <td>0.0</td>\n",
              "    </tr>\n",
              "    <tr>\n",
              "      <th>abbott</th>\n",
              "      <td>0.000000</td>\n",
              "      <td>0.0</td>\n",
              "      <td>0.0</td>\n",
              "      <td>0.0</td>\n",
              "      <td>0.0</td>\n",
              "      <td>0.0</td>\n",
              "      <td>0.0</td>\n",
              "      <td>0.000000</td>\n",
              "      <td>0.0</td>\n",
              "      <td>0.0</td>\n",
              "      <td>...</td>\n",
              "      <td>0.0</td>\n",
              "      <td>0.0</td>\n",
              "      <td>0.0</td>\n",
              "      <td>0.0</td>\n",
              "      <td>0.0</td>\n",
              "      <td>0.0</td>\n",
              "      <td>0.0</td>\n",
              "      <td>0.0</td>\n",
              "      <td>0.0</td>\n",
              "      <td>0.0</td>\n",
              "    </tr>\n",
              "  </tbody>\n",
              "</table>\n",
              "<p>5 rows × 232 columns</p>\n",
              "</div>\n",
              "      <button class=\"colab-df-convert\" onclick=\"convertToInteractive('df-f4a30c3b-5d63-4950-8bde-870a74df5479')\"\n",
              "              title=\"Convert this dataframe to an interactive table.\"\n",
              "              style=\"display:none;\">\n",
              "        \n",
              "  <svg xmlns=\"http://www.w3.org/2000/svg\" height=\"24px\"viewBox=\"0 0 24 24\"\n",
              "       width=\"24px\">\n",
              "    <path d=\"M0 0h24v24H0V0z\" fill=\"none\"/>\n",
              "    <path d=\"M18.56 5.44l.94 2.06.94-2.06 2.06-.94-2.06-.94-.94-2.06-.94 2.06-2.06.94zm-11 1L8.5 8.5l.94-2.06 2.06-.94-2.06-.94L8.5 2.5l-.94 2.06-2.06.94zm10 10l.94 2.06.94-2.06 2.06-.94-2.06-.94-.94-2.06-.94 2.06-2.06.94z\"/><path d=\"M17.41 7.96l-1.37-1.37c-.4-.4-.92-.59-1.43-.59-.52 0-1.04.2-1.43.59L10.3 9.45l-7.72 7.72c-.78.78-.78 2.05 0 2.83L4 21.41c.39.39.9.59 1.41.59.51 0 1.02-.2 1.41-.59l7.78-7.78 2.81-2.81c.8-.78.8-2.07 0-2.86zM5.41 20L4 18.59l7.72-7.72 1.47 1.35L5.41 20z\"/>\n",
              "  </svg>\n",
              "      </button>\n",
              "      \n",
              "  <style>\n",
              "    .colab-df-container {\n",
              "      display:flex;\n",
              "      flex-wrap:wrap;\n",
              "      gap: 12px;\n",
              "    }\n",
              "\n",
              "    .colab-df-convert {\n",
              "      background-color: #E8F0FE;\n",
              "      border: none;\n",
              "      border-radius: 50%;\n",
              "      cursor: pointer;\n",
              "      display: none;\n",
              "      fill: #1967D2;\n",
              "      height: 32px;\n",
              "      padding: 0 0 0 0;\n",
              "      width: 32px;\n",
              "    }\n",
              "\n",
              "    .colab-df-convert:hover {\n",
              "      background-color: #E2EBFA;\n",
              "      box-shadow: 0px 1px 2px rgba(60, 64, 67, 0.3), 0px 1px 3px 1px rgba(60, 64, 67, 0.15);\n",
              "      fill: #174EA6;\n",
              "    }\n",
              "\n",
              "    [theme=dark] .colab-df-convert {\n",
              "      background-color: #3B4455;\n",
              "      fill: #D2E3FC;\n",
              "    }\n",
              "\n",
              "    [theme=dark] .colab-df-convert:hover {\n",
              "      background-color: #434B5C;\n",
              "      box-shadow: 0px 1px 3px 1px rgba(0, 0, 0, 0.15);\n",
              "      filter: drop-shadow(0px 1px 2px rgba(0, 0, 0, 0.3));\n",
              "      fill: #FFFFFF;\n",
              "    }\n",
              "  </style>\n",
              "\n",
              "      <script>\n",
              "        const buttonEl =\n",
              "          document.querySelector('#df-f4a30c3b-5d63-4950-8bde-870a74df5479 button.colab-df-convert');\n",
              "        buttonEl.style.display =\n",
              "          google.colab.kernel.accessAllowed ? 'block' : 'none';\n",
              "\n",
              "        async function convertToInteractive(key) {\n",
              "          const element = document.querySelector('#df-f4a30c3b-5d63-4950-8bde-870a74df5479');\n",
              "          const dataTable =\n",
              "            await google.colab.kernel.invokeFunction('convertToInteractive',\n",
              "                                                     [key], {});\n",
              "          if (!dataTable) return;\n",
              "\n",
              "          const docLinkHtml = 'Like what you see? Visit the ' +\n",
              "            '<a target=\"_blank\" href=https://colab.research.google.com/notebooks/data_table.ipynb>data table notebook</a>'\n",
              "            + ' to learn more about interactive tables.';\n",
              "          element.innerHTML = '';\n",
              "          dataTable['output_type'] = 'display_data';\n",
              "          await google.colab.output.renderOutput(dataTable, element);\n",
              "          const docLink = document.createElement('div');\n",
              "          docLink.innerHTML = docLinkHtml;\n",
              "          element.appendChild(docLink);\n",
              "        }\n",
              "      </script>\n",
              "    </div>\n",
              "  </div>\n",
              "  "
            ]
          },
          "metadata": {},
          "execution_count": 85
        }
      ]
    },
    {
      "cell_type": "code",
      "source": [
        "def get_similar_articles(q, df):\n",
        "\n",
        "  print(\"query:\", q)\n",
        "\n",
        "  q = [q]\n",
        "  q_vec = chosen_cluster_vectorizer.transform(q).toarray().reshape(df.shape[0],)\n",
        "  sim = {}\n",
        "  \n",
        "  for i in range(10):\n",
        "    sim[i] = np.dot(df.loc[:, i].values, q_vec) / np.linalg.norm(df.loc[:, i]) * np.linalg.norm(q_vec)\n",
        "  \n",
        "  sim_sorted = sorted(sim.items(), key=lambda x: x[1], reverse=True)\n",
        "\n",
        "  for k, v in sim_sorted:\n",
        "    if v != 0.0:\n",
        "      print(\"Similarity:\", v)\n",
        "      print(chosen_df['clean_text'][k])\n",
        "      print()\n",
        "\n",
        "# Add The Query\n",
        "\n",
        "get_similar_articles(query, sim_df)"
      ],
      "metadata": {
        "colab": {
          "base_uri": "https://localhost:8080/"
        },
        "id": "v9rDdSKbKmFL",
        "outputId": "9e55b646-fba5-4447-985e-556985646448"
      },
      "execution_count": null,
      "outputs": [
        {
          "output_type": "stream",
          "name": "stdout",
          "text": [
            "query: sports game\n",
            "Similarity: 0.05033552490801252\n",
            "heptathlon champion back woman record miscounted performance staged break matter race pace another mark lap game minute easily dibaba world ethiopia plan kept hope slovenia sprint year bekele get took kicked dashed tirunesh cragg second ceplak erase want jump boston stuttgart battled ethiopian indoor set kenenisa ireland carolina jolanda new olympic go said compatriot long men winning mine berhane soon alistair mistake made sit last kluft previous sweden finish adera\n",
            "\n",
            "Similarity: 0.045794658121293345\n",
            "fazed bad month problem rehabilitation knee aston prospect sprinting introduction fit year push aim coach two moore ruled june added british wound get according next though hansen arena determination may healing confident term unclear time level poland return jump competitive hoped report jumping long sidelined european champion back injury frustrating game delay since march jumper recovery told start short set said athlete event comeback involved sooner make melbourne setback commonwealth slow competition heal ahead would summer ashia solved cup specialist top looking able triple\n",
            "\n",
            "Similarity: 0.032191529071686875\n",
            "joice run know broke heat alexander upset christine gardener perfectly leap brazilian maduaka belgium world trial marc gregorio year result better championship everything winner got key uk stomach scene leipzig arron kim france gevaert senior action british final get blume next place x equal norway case stepped ghent storm race clocked expect faster mark athens favoured old jason decided line well dutchman second season return birmingham jump hurdler done indoor weekend tank come third little norwich jadel airport meeting threw made cleared european qualify allahgreen main champion class union quartet aaa almost rival high enough game reached ian first week favourite home showing good van onto vomiting went former given short set win sheffield new put still said also athlete settle promising medal turn event medallist scotland part last kosenkow cm finish effort heptathlon woman record shot finished chipping joint balkom sunday felt germany international attention gold patrick form ahead colour best plenty britain mackie personal low away diane olympic morning olympics crossed bronze shook fifth previous sec triple great\n",
            "\n"
          ]
        }
      ]
    },
    {
      "cell_type": "code",
      "source": [
        ""
      ],
      "metadata": {
        "id": "ms1sUbwNQc6F"
      },
      "execution_count": null,
      "outputs": []
    }
  ]
}